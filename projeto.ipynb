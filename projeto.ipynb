{
 "cells": [
  {
   "cell_type": "markdown",
   "metadata": {},
   "source": [
    " * Projeto 2 C209 - L7\n",
    " - Guilherme Oliveira e Brito"
   ]
  },
  {
   "cell_type": "markdown",
   "metadata": {},
   "source": [
    "Importando libs"
   ]
  },
  {
   "cell_type": "code",
   "execution_count": 1,
   "metadata": {},
   "outputs": [],
   "source": [
    "import moviepy.editor as mpe\n",
    "import numpy as np"
   ]
  },
  {
   "cell_type": "markdown",
   "metadata": {},
   "source": [
    "* Abrindo Video"
   ]
  },
  {
   "cell_type": "code",
   "execution_count": 2,
   "metadata": {},
   "outputs": [],
   "source": [
    "video = mpe.VideoFileClip(\"inicial.mp4\")"
   ]
  },
  {
   "cell_type": "markdown",
   "metadata": {},
   "source": [
    "* Função para inverter o eixo a cada 20 segundos"
   ]
  },
  {
   "cell_type": "code",
   "execution_count": 3,
   "metadata": {},
   "outputs": [],
   "source": [
    "def invert(video, duration=20):\n",
    "    # lista de segmentos resultante das inversões\n",
    "    segments = []\n",
    "    # andando no video a cada 20 segundos\n",
    "    for i in range(0, int(video.duration), duration):\n",
    "        # separando um segmento do video de 20s\n",
    "        subvideo = video.subclip(i, min(i + duration, video.duration))\n",
    "        if (i // duration) % 2 == 0:\n",
    "            subvideo = subvideo.fx(mpe.vfx.mirror_x)  # Inverte no eixo horizontal\n",
    "        # salvando o segmento criado\n",
    "        segments.append(subvideo)\n",
    "    # retornando um unico video vindo da união dos segmentos criados\n",
    "    return mpe.concatenate_videoclips(segments)"
   ]
  },
  {
   "cell_type": "markdown",
   "metadata": {},
   "source": [
    "* invertendo video de 20 em 20 segundos"
   ]
  },
  {
   "cell_type": "code",
   "execution_count": 4,
   "metadata": {},
   "outputs": [],
   "source": [
    "video_inverted = invert(video)"
   ]
  },
  {
   "cell_type": "markdown",
   "metadata": {},
   "source": [
    "* definindo função para diminuir volume de audio gradativamente"
   ]
  },
  {
   "cell_type": "code",
   "execution_count": 5,
   "metadata": {},
   "outputs": [],
   "source": [
    "def lessAudio(video, volume):\n",
    "\n",
    "    duration = video.duration\n",
    "\n",
    "   # Função para diminuir o volume gradativamente\n",
    "    def decrease(audio, t):\n",
    "        frame = audio(t)\n",
    "        # Volume diminui linearmente com o tempo (1 no início, 0 no final)\n",
    "        #volume = 1 - (t / duration)\n",
    "        frame[:, 0] *= volume\n",
    "        frame[:, 1] *= volume\n",
    "        \n",
    "        return frame\n",
    "    \n",
    "    audio_decrease = video.audio.fl(decrease)\n",
    "    video_audio_decrease = video.set_audio(audio_decrease)\n",
    "\n",
    "    return video_audio_decrease"
   ]
  },
  {
   "cell_type": "markdown",
   "metadata": {},
   "source": [
    "* Abaixando gradativamente o volume do video de 30 em 30 segundos"
   ]
  },
  {
   "cell_type": "code",
   "execution_count": 6,
   "metadata": {},
   "outputs": [],
   "source": [
    "# separando video em varios clipes\n",
    "part1 = video_inverted.subclip(0,30)\n",
    "part1 = lessAudio(part1, 1)\n",
    "part2 = video_inverted.subclip(30,60)\n",
    "part2 = lessAudio(part2, 0.8)\n",
    "part3 = video_inverted.subclip(60,90)\n",
    "part3 = lessAudio(part3, 0.6)\n",
    "part4 = video_inverted.subclip(90,120)\n",
    "part4 = lessAudio(part4, 0.4)\n",
    "part5 = video_inverted.subclip(120,150)\n",
    "part5 = lessAudio(part5, 0.2)\n",
    "part6 = video_inverted.subclip(150,162)\n",
    "part6 = lessAudio(part6, 0.1)\n",
    "part7 = video_inverted.subclip(162,172)\n",
    "part7 = lessAudio(part7, 0)\n",
    "\n",
    "# juntando todos os clipes\n",
    "parts = [part1, part2, part3, part4, part5, part6, part7]\n",
    "video_audio_decrease = mpe.concatenate_videoclips(parts)"
   ]
  },
  {
   "cell_type": "markdown",
   "metadata": {},
   "source": [
    "* Cortando e inserindo um pedaço do video"
   ]
  },
  {
   "cell_type": "code",
   "execution_count": 7,
   "metadata": {},
   "outputs": [
    {
     "name": "stdout",
     "output_type": "stream",
     "text": [
      "Moviepy - Building video final.mp4.\n",
      "MoviePy - Writing audio in finalTEMP_MPY_wvf_snd.mp3\n"
     ]
    },
    {
     "name": "stderr",
     "output_type": "stream",
     "text": [
      "                                                                      \r"
     ]
    },
    {
     "name": "stdout",
     "output_type": "stream",
     "text": [
      "MoviePy - Done.\n",
      "Moviepy - Writing video final.mp4\n",
      "\n"
     ]
    },
    {
     "name": "stderr",
     "output_type": "stream",
     "text": [
      "                                                                    \r"
     ]
    },
    {
     "name": "stdout",
     "output_type": "stream",
     "text": [
      "Moviepy - Done !\n",
      "Moviepy - video ready final.mp4\n"
     ]
    }
   ],
   "source": [
    "# separando video em varios clipes\n",
    "part1 = video_audio_decrease.subclip(0, 60)\n",
    "part2 = video_audio_decrease.subclip(60, 80)\n",
    "part3 = video_audio_decrease.subclip(80)\n",
    "\n",
    "# juntando todos os clipes na ordem indicada\n",
    "parts = [part1, part3, part2]\n",
    "\n",
    "final = mpe.concatenate_videoclips(parts)\n",
    "\n",
    "final.write_videofile('final.mp4')"
   ]
  }
 ],
 "metadata": {
  "kernelspec": {
   "display_name": "Python 3",
   "language": "python",
   "name": "python3"
  },
  "language_info": {
   "codemirror_mode": {
    "name": "ipython",
    "version": 3
   },
   "file_extension": ".py",
   "mimetype": "text/x-python",
   "name": "python",
   "nbconvert_exporter": "python",
   "pygments_lexer": "ipython3",
   "version": "3.12.7"
  }
 },
 "nbformat": 4,
 "nbformat_minor": 2
}
